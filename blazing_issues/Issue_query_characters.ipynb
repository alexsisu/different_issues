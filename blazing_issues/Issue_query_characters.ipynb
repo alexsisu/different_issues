{
 "cells": [
  {
   "cell_type": "code",
   "execution_count": 12,
   "metadata": {},
   "outputs": [
    {
     "name": "stdout",
     "output_type": "stream",
     "text": [
      "  % Total    % Received % Xferd  Average Speed   Time    Time     Time  Current\n",
      "                                 Dload  Upload   Total   Spent    Left  Speed\n",
      "  0     0    0     0    0     0      0      0 --:--:-- --:--:-- --:--:--     0\n",
      "  0     0    0     0    0     0      0      0 --:--:-- --:--:-- --:--:--     0\n",
      "100  1034    0  1034    0     0   1171      0 --:--:-- --:--:-- --:--:--  1171\n",
      "100  101M  100  101M    0     0  26.2M      0  0:00:03  0:00:03 --:--:-- 41.6M\n"
     ]
    }
   ],
   "source": [
    "!curl -L -o file_conduitbugbash_books15mil_MJXW623TGE2W22LM_snappy_parquet.tar.gz https://www.dropbox.com/s/gtfbe8h72cnx10w/file_conduitbugbash_books15mil_mjxw623tge2w22lm_snappy_parquet.tar.gz?dl=0"
   ]
  },
  {
   "cell_type": "code",
   "execution_count": null,
   "metadata": {},
   "outputs": [],
   "source": [
    "!tar -xzvf file_conduitbugbash_books15mil_MJXW623TGE2W22LM_snappy_parquet.tar.gz\n",
    "!mkdir -p /mnt/conduit_parquet_store\n",
    "!mv file_conduitbugbash_books15mil_MJXW623TGE2W22LM_snappy_parquet /mnt/conduit_parquet_store/"
   ]
  },
  {
   "cell_type": "code",
   "execution_count": 1,
   "metadata": {},
   "outputs": [],
   "source": [
    "import os\n",
    "import sys\n",
    "import psutil\n",
    "import time\n",
    "import cudf\n",
    "from blazingsql import BlazingContext\n"
   ]
  },
  {
   "cell_type": "code",
   "execution_count": 2,
   "metadata": {},
   "outputs": [],
   "source": [
    "LOCAL_FOLDER=\"/mnt/conduit_parquet_store/file_conduitbugbash_books15mil_MJXW623TGE2W22LM_snappy_parquet/\"\n"
   ]
  },
  {
   "cell_type": "code",
   "execution_count": 3,
   "metadata": {},
   "outputs": [
    {
     "name": "stdout",
     "output_type": "stream",
     "text": [
      "BlazingContext ready\n"
     ]
    }
   ],
   "source": [
    "bc = BlazingContext(allocator=\"default\",pool=False)"
   ]
  },
  {
   "cell_type": "code",
   "execution_count": 4,
   "metadata": {},
   "outputs": [],
   "source": [
    "def retrieve_parquet_files_from_folder(folder_name):\n",
    "    target_files = []\n",
    "    for entry in os.listdir(folder_name):\n",
    "        if entry.endswith(\"parquet\"):\n",
    "            target_file = os.path.join(folder_name, entry)\n",
    "            target_files.append(target_file)\n",
    "    return target_files\n",
    "\n",
    "parquet_files = retrieve_parquet_files_from_folder(LOCAL_FOLDER)\n",
    "bc.create_table(\"books\",parquet_files)\n"
   ]
  },
  {
   "cell_type": "code",
   "execution_count": 5,
   "metadata": {},
   "outputs": [
    {
     "name": "stdout",
     "output_type": "stream",
     "text": [
      "SELECT C_0 AS C_8, C_1 AS C_7, COUNT(C_3) AS C_4331 FROM (SELECT C_66696c655f636f6e64756974627567626173685f626f6f6b7331356d696c.`ISBN` AS C_3, C_66696c655f636f6e64756974627567626173685f626f6f6b7331356d696c.`Book-Title` AS C_43, C_66696c655f636f6e64756974627567626173685f626f6f6b7331356d696c.`Book-Author` AS C_0, C_66696c655f636f6e64756974627567626173685f626f6f6b7331356d696c.`Year-Of-Publication` AS C_2, C_66696c655f636f6e64756974627567626173685f626f6f6b7331356d696c.`Publisher` AS C_1, C_66696c655f636f6e64756974627567626173685f626f6f6b7331356d696c.`Image-URL-S` AS C_6, C_66696c655f636f6e64756974627567626173685f626f6f6b7331356d696c.`Image-URL-M` AS C_5, C_66696c655f636f6e64756974627567626173685f626f6f6b7331356d696c.`Image-URL-L` AS C_4 FROM books C_66696c655f636f6e64756974627567626173685f626f6f6b7331356d696c WHERE C_66696c655f636f6e64756974627567626173685f626f6f6b7331356d696c.`Publisher` IN ('�?�?ditions 10/18', ' Tri-State Press', '\"Corvina\"', '\"Nauka\"', '1001 nuits', '101 Productions', '10-18', '10x18', '21st Century', '3D Press', '7 i Mig editorial de poesia', 'A J K Publishing')) AS C_4954424c GROUP BY C_0, C_1 LIMIT 1000001\n"
     ]
    }
   ],
   "source": [
    "query=\"\"\"\n",
    "SELECT C_0 AS C_8, C_1 AS C_7, COUNT(C_3) AS C_4331 FROM (SELECT C_66696c655f636f6e64756974627567626173685f626f6f6b7331356d696c.`ISBN` AS C_3, C_66696c655f636f6e64756974627567626173685f626f6f6b7331356d696c.`Book-Title` AS C_43, C_66696c655f636f6e64756974627567626173685f626f6f6b7331356d696c.`Book-Author` AS C_0, C_66696c655f636f6e64756974627567626173685f626f6f6b7331356d696c.`Year-Of-Publication` AS C_2, C_66696c655f636f6e64756974627567626173685f626f6f6b7331356d696c.`Publisher` AS C_1, C_66696c655f636f6e64756974627567626173685f626f6f6b7331356d696c.`Image-URL-S` AS C_6, C_66696c655f636f6e64756974627567626173685f626f6f6b7331356d696c.`Image-URL-M` AS C_5, C_66696c655f636f6e64756974627567626173685f626f6f6b7331356d696c.`Image-URL-L` AS C_4 FROM books C_66696c655f636f6e64756974627567626173685f626f6f6b7331356d696c WHERE C_66696c655f636f6e64756974627567626173685f626f6f6b7331356d696c.`Publisher` IN (\\'�?�?ditions 10/18\\', \\' Tri-State Press\\', \\'\"Corvina\"\\', \\'\"Nauka\"\\', \\'1001 nuits\\', \\'101 Productions\\', \\'10-18\\', \\'10x18\\', \\'21st Century\\', \\'3D Press\\', \\'7 i Mig editorial de poesia\\', \\'A J K Publishing\\')) AS C_4954424c GROUP BY C_0, C_1 LIMIT 1000001\n",
    "\"\"\"\n",
    "query = query.strip()\n",
    "print(query)"
   ]
  },
  {
   "cell_type": "code",
   "execution_count": null,
   "metadata": {},
   "outputs": [],
   "source": [
    "#this part crashes\n",
    "res = bc.sql(query)\n",
    "res\n",
    "\n"
   ]
  },
  {
   "cell_type": "code",
   "execution_count": null,
   "metadata": {},
   "outputs": [],
   "source": []
  }
 ],
 "metadata": {
  "celltoolbar": "Raw Cell Format",
  "kernelspec": {
   "display_name": "Python 3",
   "language": "python",
   "name": "python3"
  },
  "language_info": {
   "codemirror_mode": {
    "name": "ipython",
    "version": 3
   },
   "file_extension": ".py",
   "mimetype": "text/x-python",
   "name": "python",
   "nbconvert_exporter": "python",
   "pygments_lexer": "ipython3",
   "version": "3.7.7"
  }
 },
 "nbformat": 4,
 "nbformat_minor": 4
}
